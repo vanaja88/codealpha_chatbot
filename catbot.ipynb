{
 "cells": [
  {
   "cell_type": "code",
   "execution_count": null,
   "metadata": {},
   "outputs": [],
   "source": []
  },
  {
   "cell_type": "code",
   "execution_count": null,
   "metadata": {},
   "outputs": [],
   "source": [
    "import nltk\n",
    "import random\n",
    "from nltk.chat.util import Chat, reflections\n",
    "\n",
    "# Define a list of patterns and responses\n",
    "patterns = [\n",
    "    (r'hi|hello|hey', ['Hello!', 'Hey there!', 'Hi!']),\n",
    "    (r'how are you?', ['I am good, thank you.', 'I\\'m doing well, thanks.', 'All good!']),\n",
    "    (r'what is your name?', ['I am a chatbot.', 'You can call me Chatbot.', 'I\\'m Chatbot!']),\n",
    "    (r'bye|goodbye', ['Goodbye!', 'Bye!', 'Have a nice day!']),\n",
    "    (r'i love you', ['Aw, thanks!', 'I love you too!']),\n",
    "    (r'(.*) (hungry|sleepy)', ['Maybe you should eat something.', 'You should take a nap.']),\n",
    "    (r'(.*)', ['Interesting!', 'Tell me more...', 'I see...', 'Can you elaborate?']),\n",
    "]\n",
    "\n",
    "# Create a chatbot\n",
    "def chatbot():\n",
    "    print(\"Hello! I'm Chatbot. How can I help you today?\")\n",
    "    chatbot = Chat(patterns, reflections)\n",
    "    while True:\n",
    "        user_input = input(\"You: \")\n",
    "        if user_input.lower() == 'quit':\n",
    "            print(\"Goodbye!\")\n",
    "            break\n",
    "        response = chatbot.respond(user_input)\n",
    "        print(\"Chatbot:\", response)\n",
    "\n",
    "# Run the chatbot\n",
    "if __name__ == \"__main__\":\n",
    "    chatbot()\n"
   ]
  }
 ],
 "metadata": {
  "language_info": {
   "name": "python"
  }
 },
 "nbformat": 4,
 "nbformat_minor": 2
}
